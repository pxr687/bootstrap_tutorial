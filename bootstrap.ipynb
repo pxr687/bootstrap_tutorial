{
 "cells": [
  {
   "cell_type": "code",
   "execution_count": 1,
   "id": "a19cae1e",
   "metadata": {
    "tags": [
     "hide-cell"
    ]
   },
   "outputs": [],
   "source": [
    "# don't change this cell; just run it\n",
    "import numpy as np\n",
    "import pandas as pd\n",
    "from IPython.display import display, Markdown\n",
    "\n",
    "# safe settings for Pandas\n",
    "pd.set_option('mode.chained_assignment', 'raise')\n",
    "%matplotlib inline\n",
    "import matplotlib.pyplot as plt\n",
    "from population_sample_image_generator import *\n",
    "from central_limit_illustration import *\n",
    "\n",
    "# make the plots look more fancy\n",
    "plt.style.use('fivethirtyeight')"
   ]
  },
  {
   "cell_type": "markdown",
   "id": "12251713",
   "metadata": {},
   "source": [
    "# Confidence intervals\n",
    "\n",
    "- We will look at confidence intervals via a modern code-based method of generating them, called the bootsrap\n",
    "\n",
    "*Note*: This page has content from the [Bootstrap](https://github.com/data-8/textbook/blob/64b20f0/notebooks/Bootstrap.ipynb)\n",
    "notebook of an older version of the [UC Berkeley data science course](https://inferentialthinking.com/). See the Berkeley course section of the [license file](https://uob-ds.github.io/cfd2021/license)."
   ]
  },
  {
   "cell_type": "markdown",
   "id": "949133f8",
   "metadata": {},
   "source": [
    "## A data scientist's predicament\n",
    "\n",
    "Consider this scenario: a data scientist has been asked to help with a research project in the field of historical epidemiology - analysing historical datasets related to health. \n",
    "\n",
    "Her task is to calculate the average birthweight of babies born at a small hospital in Oakland, California in the year 1960. She is to do this in order to later test the hypothesis that babies born at this hospital in this year were underweight, relative to the national average at that time. (For now though, she is only interested in calculating the average birthweight at the hospital, in 1960).\n",
    "\n",
    "However, the data scientist is in a predicament.  Initially, she was granted access to a random sample of 25 baby records whilst awaiting clearance from the hospital's medical records department to access the complete dataset. The complete dataset includes the birthweights for all 1236 babies born at that hospital in 1960.\n",
    "\n",
    "But disaster has struck, and the hospital's medical records department are refusing the data scientist access to the full dataset. (Alas, research rarely goes to plan!).\n",
    "\n",
    "At the moment, she only has her random sample of 25 babies, which is shown as the output of the code cell below:"
   ]
  },
  {
   "cell_type": "code",
   "execution_count": 2,
   "id": "b85bd0eb",
   "metadata": {},
   "outputs": [
    {
     "data": {
      "text/html": [
       "<div>\n",
       "<style scoped>\n",
       "    .dataframe tbody tr th:only-of-type {\n",
       "        vertical-align: middle;\n",
       "    }\n",
       "\n",
       "    .dataframe tbody tr th {\n",
       "        vertical-align: top;\n",
       "    }\n",
       "\n",
       "    .dataframe thead th {\n",
       "        text-align: right;\n",
       "    }\n",
       "</style>\n",
       "<table border=\"1\" class=\"dataframe\">\n",
       "  <thead>\n",
       "    <tr style=\"text-align: right;\">\n",
       "      <th></th>\n",
       "      <th>birthweight_kg</th>\n",
       "    </tr>\n",
       "  </thead>\n",
       "  <tbody>\n",
       "    <tr>\n",
       "      <th>0</th>\n",
       "      <td>3.997282</td>\n",
       "    </tr>\n",
       "    <tr>\n",
       "      <th>1</th>\n",
       "      <td>3.316894</td>\n",
       "    </tr>\n",
       "    <tr>\n",
       "      <th>2</th>\n",
       "      <td>4.110680</td>\n",
       "    </tr>\n",
       "    <tr>\n",
       "      <th>3</th>\n",
       "      <td>3.657088</td>\n",
       "    </tr>\n",
       "    <tr>\n",
       "      <th>4</th>\n",
       "      <td>2.721554</td>\n",
       "    </tr>\n",
       "    <tr>\n",
       "      <th>5</th>\n",
       "      <td>2.976700</td>\n",
       "    </tr>\n",
       "    <tr>\n",
       "      <th>6</th>\n",
       "      <td>3.713787</td>\n",
       "    </tr>\n",
       "    <tr>\n",
       "      <th>7</th>\n",
       "      <td>3.827185</td>\n",
       "    </tr>\n",
       "    <tr>\n",
       "      <th>8</th>\n",
       "      <td>3.515340</td>\n",
       "    </tr>\n",
       "    <tr>\n",
       "      <th>9</th>\n",
       "      <td>2.438059</td>\n",
       "    </tr>\n",
       "    <tr>\n",
       "      <th>10</th>\n",
       "      <td>3.486991</td>\n",
       "    </tr>\n",
       "    <tr>\n",
       "      <th>11</th>\n",
       "      <td>4.394176</td>\n",
       "    </tr>\n",
       "    <tr>\n",
       "      <th>12</th>\n",
       "      <td>2.920001</td>\n",
       "    </tr>\n",
       "    <tr>\n",
       "      <th>13</th>\n",
       "      <td>3.288544</td>\n",
       "    </tr>\n",
       "    <tr>\n",
       "      <th>14</th>\n",
       "      <td>4.167379</td>\n",
       "    </tr>\n",
       "    <tr>\n",
       "      <th>15</th>\n",
       "      <td>3.203496</td>\n",
       "    </tr>\n",
       "    <tr>\n",
       "      <th>16</th>\n",
       "      <td>3.515340</td>\n",
       "    </tr>\n",
       "    <tr>\n",
       "      <th>17</th>\n",
       "      <td>3.600389</td>\n",
       "    </tr>\n",
       "    <tr>\n",
       "      <th>18</th>\n",
       "      <td>4.620972</td>\n",
       "    </tr>\n",
       "    <tr>\n",
       "      <th>19</th>\n",
       "      <td>3.600389</td>\n",
       "    </tr>\n",
       "    <tr>\n",
       "      <th>20</th>\n",
       "      <td>3.260195</td>\n",
       "    </tr>\n",
       "    <tr>\n",
       "      <th>21</th>\n",
       "      <td>3.713787</td>\n",
       "    </tr>\n",
       "    <tr>\n",
       "      <th>22</th>\n",
       "      <td>3.685438</td>\n",
       "    </tr>\n",
       "    <tr>\n",
       "      <th>23</th>\n",
       "      <td>4.252428</td>\n",
       "    </tr>\n",
       "    <tr>\n",
       "      <th>24</th>\n",
       "      <td>1.559224</td>\n",
       "    </tr>\n",
       "  </tbody>\n",
       "</table>\n",
       "</div>"
      ],
      "text/plain": [
       "    birthweight_kg\n",
       "0         3.997282\n",
       "1         3.316894\n",
       "2         4.110680\n",
       "3         3.657088\n",
       "4         2.721554\n",
       "5         2.976700\n",
       "6         3.713787\n",
       "7         3.827185\n",
       "8         3.515340\n",
       "9         2.438059\n",
       "10        3.486991\n",
       "11        4.394176\n",
       "12        2.920001\n",
       "13        3.288544\n",
       "14        4.167379\n",
       "15        3.203496\n",
       "16        3.515340\n",
       "17        3.600389\n",
       "18        4.620972\n",
       "19        3.600389\n",
       "20        3.260195\n",
       "21        3.713787\n",
       "22        3.685438\n",
       "23        4.252428\n",
       "24        1.559224"
      ]
     },
     "execution_count": 2,
     "metadata": {},
     "output_type": "execute_result"
    }
   ],
   "source": [
    "# load in the sample data (this IS real data!)\n",
    "babies_sample = pd.read_csv('babies_sample.csv')\n",
    "\n",
    "# show the sample data\n",
    "babies_sample"
   ]
  },
  {
   "cell_type": "markdown",
   "id": "2dc2361d",
   "metadata": {},
   "source": [
    "Here is the histogram of the data scientist's sample, and along with it's sample mean:"
   ]
  },
  {
   "cell_type": "code",
   "execution_count": 3,
   "id": "3296c2f7",
   "metadata": {},
   "outputs": [
    {
     "data": {
      "image/png": "[encoded data removed]",
      "text/plain": [
       "<Figure size 640x480 with 1 Axes>"
      ]
     },
     "metadata": {},
     "output_type": "display_data"
    }
   ],
   "source": [
    "# calculate the sample mean\n",
    "sample_mean = babies_sample['birthweight_kg'].mean()\n",
    "\n",
    "# plot the sample, and its mean\n",
    "plt.hist(babies_sample['birthweight_kg'], color = 'darkred')\n",
    "plt.axvline(sample_mean, color = 'red', label = f\"Sample Mean (= {round(sample_mean, 2)})\")\n",
    "plt.xlabel('Birthweight (kg)')\n",
    "plt.title('Random Sample')\n",
    "plt.legend(bbox_to_anchor = (1,1));"
   ]
  },
  {
   "cell_type": "markdown",
   "id": "dbadf5eb",
   "metadata": {},
   "source": [
    "Because the full dataset is inaccessible due to the decision of the medical records department, the random sample of 25 birthweights is the only evidence our data scientist has about mean birthweight in 1960. However, she doesn't care specifically about the mean birthweight of this random sample of 25 babies; *she cares about the mean birthweight of all 1236 babies born in 1960, at this particular hospital*. Let's refer to these 1236 babies as the *population* she is interested in.\n",
    "\n",
    "Somehow she needs to use her sample and its average birthweight to accurately estimate the population's average birthweight.\n",
    "\n",
    "> <b> Question: </b>: can our data scientist simply present her sample average as an estimate of the population average?\n",
    "\n",
    "Our data scientist *could* simply take the average birthweight of her sample and report it as the estimated population birthweight, but she knows that her random sample is just one of many possible random samples. She knows that, on a different day, different babies' records would have made it into her random sample, and the sample's average birthweight would probably have been different. Consequently, if she were to use the sample average as her estimate of the population birthweight, her estimate would have been different as well.\n",
    "\n",
    "If her estimate very easily could have been different, then why should she believe that her specific sample contains the best estimate of the population mean?\n",
    "\n",
    "Because of these concerns, she is reluctant to use the sample mean *by itself* as an estimate of the population mean.\n",
    "\n",
    "## An all-knowing perspective\n",
    "\n",
    "Let's not just take our data scientist's word here though - let's use the power of code to empirically demonstrate the principles behind her concerns.\n",
    "\n",
    "In order to do this I'd like you to imagine that we (everyone present today) has access to the full dataset. Let's imagine we work in another department at the hospital, and we do have clearance to view the full data. (**But** we're not allowed to share the population data - or anything derived from the population data - with anyone outside of the hospital).\n",
    "\n",
    "Here is the full dataset, containing the birthweights of all babies born in 1960 at the hospital:"
   ]
  },
  {
   "cell_type": "code",
   "execution_count": 4,
   "id": "5f58f325",
   "metadata": {},
   "outputs": [
    {
     "data": {
      "text/html": [
       "<div>\n",
       "<style scoped>\n",
       "    .dataframe tbody tr th:only-of-type {\n",
       "        vertical-align: middle;\n",
       "    }\n",
       "\n",
       "    .dataframe tbody tr th {\n",
       "        vertical-align: top;\n",
       "    }\n",
       "\n",
       "    .dataframe thead th {\n",
       "        text-align: right;\n",
       "    }\n",
       "</style>\n",
       "<table border=\"1\" class=\"dataframe\">\n",
       "  <thead>\n",
       "    <tr style=\"text-align: right;\">\n",
       "      <th></th>\n",
       "      <th>birthweight_kg</th>\n",
       "    </tr>\n",
       "  </thead>\n",
       "  <tbody>\n",
       "    <tr>\n",
       "      <th>0</th>\n",
       "      <td>3.401942</td>\n",
       "    </tr>\n",
       "    <tr>\n",
       "      <th>1</th>\n",
       "      <td>3.203496</td>\n",
       "    </tr>\n",
       "    <tr>\n",
       "      <th>2</th>\n",
       "      <td>3.628739</td>\n",
       "    </tr>\n",
       "    <tr>\n",
       "      <th>3</th>\n",
       "      <td>3.486991</td>\n",
       "    </tr>\n",
       "    <tr>\n",
       "      <th>4</th>\n",
       "      <td>3.061748</td>\n",
       "    </tr>\n",
       "    <tr>\n",
       "      <th>...</th>\n",
       "      <td>...</td>\n",
       "    </tr>\n",
       "    <tr>\n",
       "      <th>1231</th>\n",
       "      <td>3.203496</td>\n",
       "    </tr>\n",
       "    <tr>\n",
       "      <th>1232</th>\n",
       "      <td>3.628739</td>\n",
       "    </tr>\n",
       "    <tr>\n",
       "      <th>1233</th>\n",
       "      <td>3.685438</td>\n",
       "    </tr>\n",
       "    <tr>\n",
       "      <th>1234</th>\n",
       "      <td>3.543690</td>\n",
       "    </tr>\n",
       "    <tr>\n",
       "      <th>1235</th>\n",
       "      <td>3.316894</td>\n",
       "    </tr>\n",
       "  </tbody>\n",
       "</table>\n",
       "<p>1236 rows × 1 columns</p>\n",
       "</div>"
      ],
      "text/plain": [
       "      birthweight_kg\n",
       "0           3.401942\n",
       "1           3.203496\n",
       "2           3.628739\n",
       "3           3.486991\n",
       "4           3.061748\n",
       "...              ...\n",
       "1231        3.203496\n",
       "1232        3.628739\n",
       "1233        3.685438\n",
       "1234        3.543690\n",
       "1235        3.316894\n",
       "\n",
       "[1236 rows x 1 columns]"
      ]
     },
     "execution_count": 4,
     "metadata": {},
     "output_type": "execute_result"
    }
   ],
   "source": [
    "# load in the population data\n",
    "babies_pop = pd.read_csv('babies.csv')\n",
    "\n",
    "# show the data\n",
    "babies_pop"
   ]
  },
  {
   "cell_type": "markdown",
   "id": "ba274b8e",
   "metadata": {},
   "source": [
    "We are almost never in this situation in research - of being able to access the full population data - and so, from our luxury, all-knowing viewpoint, we can just plot the population data, and \"peek\" at the population mean:"
   ]
  },
  {
   "cell_type": "code",
   "execution_count": 5,
   "id": "a5acf10e",
   "metadata": {},
   "outputs": [
    {
     "data": {
      "image/png": "[encoded data removed]",
      "text/plain": [
       "<Figure size 640x480 with 1 Axes>"
      ]
     },
     "metadata": {},
     "output_type": "display_data"
    }
   ],
   "source": [
    "# plot a histogram, show the pop and pop mean\n",
    "plt.hist(babies_pop[\"birthweight_kg\"], color = 'darkblue', \n",
    "         label = 'Population')\n",
    "\n",
    "# store the population mean as a variable\n",
    "population_mean = babies_pop[\"birthweight_kg\"].mean().round(2)\n",
    "\n",
    "plt.axvline(babies_pop[\"birthweight_kg\"].mean(), \n",
    "            label = f'Mean of Population = \\n{population_mean}', \n",
    "            color = \"blue\")\n",
    "\n",
    "# add axis labels and legend\n",
    "plt.xlabel('Birthweight (kg)')\n",
    "plt.legend(bbox_to_anchor = (1,1))\n",
    "plt.title('Population Data');"
   ]
  },
  {
   "cell_type": "markdown",
   "id": "04845125",
   "metadata": {},
   "source": [
    "From our seemingly all-knowing position of being able to \"see\" the full population data, we can simulate the situation the data scientist is in, by drawing a random sample of 25 babies from the population of 1236 babies. \n",
    "\n",
    "Further - because we have access to the population data - we can do this as many times as we like, so we can not only see how far off each sample average is from the actual population mean, we can also build an intuition as to how much sample averages vary as we draw lots of random samples (highlighting the issue our data scientist is concerned by).\n",
    "\n",
    "The code cell below draws a random sample from the population data:"
   ]
  },
  {
   "cell_type": "code",
   "execution_count": null,
   "id": "418f3a58",
   "metadata": {},
   "outputs": [],
   "source": [
    "# draw a new sample\n",
    "new_sample = babies_pop.sample(25)\n",
    "\n",
    "# show the new sample and the mean\n",
    "display(Markdown(f\"\\nNew sample mean = {np.mean(new_sample).round(2)}\"))\n",
    "display(new_sample.round(2))"
   ]
  },
  {
   "cell_type": "markdown",
   "id": "97f4acc2",
   "metadata": {},
   "source": [
    "Let's look at this process of drawing random samples another way. The graph on the left below shows the full population of baby birthweights; the graph on the right shows a random sample of 25 of the baby birthweights (highlighted in red):"
   ]
  },
  {
   "cell_type": "code",
   "execution_count": null,
   "id": "f00333d1",
   "metadata": {},
   "outputs": [],
   "source": [
    "# this is a custom function, as the code to produce this plot is quite long...\n",
    "field_plot(babies_pop, fontsize = 8, figsize = (12,12))"
   ]
  },
  {
   "cell_type": "markdown",
   "id": "1857428c",
   "metadata": {},
   "source": [
    "From our omniscient perspective, let's draw another random sample and let's plot it against the population data, so we can see graphically how close or far our sample average is from the population average.\n",
    "\n",
    "Through running this code cell multiple times, we can build an intuition for how much the sample averages vary, over repeated sample.\n",
    "\n",
    "As we run the cell multiple times, let's evaluate how accurate it would be to use each single sample's mean as an estimate of the population mean - this will show us why our data scientist is reluctant to \"trust\" the mean of her single sample as an estimate of the population average:"
   ]
  },
  {
   "cell_type": "code",
   "execution_count": null,
   "id": "f208d211",
   "metadata": {},
   "outputs": [],
   "source": [
    "# draw a new random sample\n",
    "new_sample = babies_pop[\"birthweight_kg\"].sample(25)\n",
    "\n",
    "# plot a histogram, show the pop and pop mean\n",
    "plt.hist(babies_pop[\"birthweight_kg\"], color = 'darkblue', \n",
    "         label = 'Population')\n",
    "plt.axvline(babies_pop[\"birthweight_kg\"].mean(), \n",
    "            label = f'Mean of Population = \\n{population_mean}', \n",
    "            color = \"blue\")\n",
    "\n",
    "# show the new sample and new sample mean\n",
    "plt.scatter(new_sample, np.repeat(9, len(new_sample)), \n",
    "            marker = \"|\", s = 400, \n",
    "            color = 'darkred',\n",
    "            label = 'Sample Elements')\n",
    "plt.axvline(new_sample.mean(), color = \"red\",\n",
    "            label = f'Sample Mean = {new_sample.mean().round(2)}')\n",
    "    \n",
    "# add axis labels and legend\n",
    "plt.xlabel('Birthweight (kg)')\n",
    "plt.legend(bbox_to_anchor = (1,1))\n",
    "plt.title('Population & Sample');"
   ]
  },
  {
   "cell_type": "markdown",
   "id": "5973d550",
   "metadata": {},
   "source": [
    "We can see that from each new random sample, sometimes we get a good estimate of the population mean, sometimes we get a bad estimate."
   ]
  },
  {
   "cell_type": "markdown",
   "id": "4dd294e2",
   "metadata": {},
   "source": [
    "## Plus or minus a bit\n",
    "\n",
    "I've just re-run several of the code cells above multiple times, each time drawing a new random sample from the population data.\n",
    "\n",
    "Our data scientist, however, is the situation researchers are typically in: she has one random sample, and is not able to draw new random samples from the population at will. She has to estimate the population mean using the mean of her one, single sample.\n",
    "\n",
    "But: from our all-knowing perspective, we have seen that sample averages do not always capture the population average.\n",
    "\n",
    "Sometimes sample means are higher than the population mean, sometimes they are lower than the population mean.\n",
    "\n",
    "Sometimes the difference between the sample average from the population average is large, sometimes it is small.\n",
    "\n",
    "This phenomenon is called *sampling error* - sample averages tend to deviate from the population average, even when the sample is random.\n",
    "\n",
    "So when our data scientist is questioning whether her sample average is a good representation of the population average, she knows that the answer is something like:\n",
    "\n",
    "> \"the population mean is probably somewhere near my sample mean, but because of sampling error the population mean is going to be my sample mean **plus or minus a bit**\".\n",
    "\n",
    "This \"plus or minus a bit\" here entails that her sample average is an *uncertain* estimate of the population average.\n",
    "\n",
    "But how uncertain is her estimate? How does she know how big \"plus or minus a bit\" might be? \n",
    "\n",
    "Currently, two things that would be relevant for answering this question are hidden from our data scientist:\n",
    "\n",
    "- The population mean itself\n",
    "\n",
    "- The amount by which sample means from different random samples vary from each other\n",
    "\n",
    "If she knew the population mean, she wouldn't have to infer anything from her sample. She could just report the population mean to the rest of her reserch team, and proceed with the rest of the project.\n",
    "\n",
    "But, even if she doesn't know the true population mean, if she knew the amount by which sample averages vary - over repeated random sampling of the sort we've just seen in the code cells above - she could use that information to construct an *interval* in which the population mean probably lies. \n",
    "\n",
    "Think of it this way: if our data scientist could draw many more random samples she could record the mean of each, and then see how much the means of random samples vary from each other. She knows that her first sample was also subject to this variability - if she then takes the \"spread\" of the sample averages, she can say \"the population mean is probably my sample average, plus or minus the \"spread\" of the distribution of all of the random sample averages, because that's how much variability there is when you draw repeated samples and calculate their means\". \n",
    "\n",
    "This interval is a *confidence interval*. It gives us a precise estimate to how big \"plus or minus a bit\" it, when we say \"the population mean is probably our sample mean, plus or minus a bit\".\n",
    "\n",
    "## Confidence intervals - from our \"all knowing\" perspective\n",
    "\n",
    "This might all sound a bit abstract. So let's convince ourselves it is true using code. Our data scientist can't draw new random samples from the population - but we from our luxury perspective can.\n",
    "\n",
    "The code cell below repeats some code 1000 times. On each repeat, it draws a new random sample of 25 babies (just as in the code cells above). Each time a new sample is drawn, the mean of that sample is calculated. Once the code has run, we will have the means of 1000 random samples, drawn from the population data. This will tell us how much the means of random samples tend to vary from each other:"
   ]
  },
  {
   "cell_type": "code",
   "execution_count": null,
   "id": "4e1d0a9a",
   "metadata": {},
   "outputs": [],
   "source": [
    "# set how many samples to draw\n",
    "number_of_samples = 1000\n",
    "\n",
    "# an empty array to store the sample means\n",
    "sample_means = np.empty(number_of_samples)\n",
    "\n",
    "# over 1000 repeats\n",
    "for i in np.arange(1000):\n",
    "    \n",
    "    # draw a new random sample of 25 babies\n",
    "    current_sample = babies_pop[\"birthweight_kg\"].sample(25)\n",
    "    \n",
    "    # calculate and store the mean of the current sample\n",
    "    sample_means[i] = current_sample.mean()\n",
    "\n",
    "# plot the distribution of the sample means\n",
    "plt.hist(sample_means, color = 'purple', label = 'Sample Means')\n",
    "plt.legend(bbox_to_anchor = (1, 1))\n",
    "plt.xlabel('Mean Birthweight (kg)')\n",
    "plt.title(f'\\nDistribution of Sample Means \\n({number_of_samples} samples)\\n(All-knowing perspective)');"
   ]
  },
  {
   "cell_type": "markdown",
   "id": "e75e37a4",
   "metadata": {},
   "source": [
    "Let's just recap what we've done here: because we have the population data, we've been able to draw repeated random samples from it.\n",
    "\n",
    "We've drawn 1000 random samples, and calculated the mean for each one.\n",
    "\n",
    "The purple histogram above shows the distribution of the means of these 1000 samples.\n",
    "\n",
    "This histogram can let us quantify the \"plus or minus a bit\" mentioned above - because it shows us how much sample averages tend to vary from each other.\n",
    "\n",
    "Now, if we take the \"spread\" of this sampling distribution, we can construct an interval which quantifies \"plus or minus a bit\". We'll follow convention here, and grab the middle 95% of the distribution:"
   ]
  },
  {
   "cell_type": "code",
   "execution_count": null,
   "id": "1b904968",
   "metadata": {},
   "outputs": [],
   "source": [
    "# get the middle 95% of the distribution of sample means\n",
    "left_interval, right_interval = np.percentile(sample_means, [2.5, 97.5])\n",
    "print('Left:', left_interval)\n",
    "print('Right:', right_interval)"
   ]
  },
  {
   "cell_type": "markdown",
   "id": "29000f63",
   "metadata": {},
   "source": [
    "We now have the middle 95% of the sample means, obtained via our all-knowing perspective of being able to repeatedly draw new samples and calculate their means:"
   ]
  },
  {
   "cell_type": "code",
   "execution_count": null,
   "id": "98ec32b8",
   "metadata": {},
   "outputs": [],
   "source": [
    "# plot the sampling distribution and the 95% interval\n",
    "plt.hist(sample_means, color = 'purple', label = 'Sample Means')\n",
    "plt.plot([left_interval, right_interval], [5, 5], color='yellow', lw=8, zorder=1,\n",
    "         label = \"Interval containing 95% of the\\nsample means\")\n",
    "plt.legend(bbox_to_anchor = (1, 1))\n",
    "plt.xlabel('Mean Birthweight (kg)')\n",
    "plt.title(f'\\nDistribution of Sample Means \\n({number_of_samples} samples)\\n(All-knowing perspective)');"
   ]
  },
  {
   "cell_type": "markdown",
   "id": "2ba4d903",
   "metadata": {},
   "source": [
    "Let's calculate how \"wide\" the interval is - that tells us precisely what \"plus or minus a bit is\", as it tells us how much the sample means typically vary from each other, as we draw lots of random samples:"
   ]
  },
  {
   "cell_type": "code",
   "execution_count": null,
   "id": "6db59316",
   "metadata": {},
   "outputs": [],
   "source": [
    "# calculate the width of the interval\n",
    "width_of_interval = right_interval - left_interval\n",
    "\n",
    "# show the width of the interval\n",
    "width_of_interval "
   ]
  },
  {
   "cell_type": "markdown",
   "id": "ebd48577",
   "metadata": {},
   "source": [
    "<b> What can we do with this interval? </b>\n",
    "\n",
    "The code cell below draws a new random sample and shows its mean.\n",
    "\n",
    "It uses the \"spread\" of the sampling distribution - which we just calculated - and \"places\" the spread as an interval around the new sample mean.\n",
    "\n",
    "If we re-run the cell lots of times, we can see that a very high proportion of the time, the yellow interval contains the population mean:"
   ]
  },
  {
   "cell_type": "code",
   "execution_count": null,
   "id": "78a0799d",
   "metadata": {},
   "outputs": [],
   "source": [
    "# draw a new random sample\n",
    "new_sample = babies_pop[\"birthweight_kg\"].sample(25)\n",
    "\n",
    "# plot the population histogram\n",
    "plt.hist(babies_pop[\"birthweight_kg\"], color = 'darkblue', \n",
    "         label = 'Population')\n",
    "\n",
    "# plot the confidence interval\n",
    "plt.plot([new_sample.mean() - width_of_interval /2, new_sample.mean() + width_of_interval /2], [5, 5],\n",
    "         color='yellow', lw=8, zorder=1,\n",
    "         label = \"Interval containing 95% of the\\nsample means\")\n",
    "\n",
    "# plot the population mean\n",
    "plt.axvline(babies_pop[\"birthweight_kg\"].mean(), \n",
    "            label = f'Mean of Population = \\n{population_mean}', \n",
    "            color = \"blue\")\n",
    "\n",
    "# plot the sample mean\n",
    "plt.axvline(new_sample.mean(), color = \"red\",\n",
    "            label = f'Sample Mean = {new_sample.mean().round(2)}')\n",
    "\n",
    "plt.title('Population, Sample and \\nConfidence Interval')\n",
    "plt.legend(bbox_to_anchor = (1, 1));"
   ]
  },
  {
   "cell_type": "markdown",
   "id": "8b79c516",
   "metadata": {},
   "source": [
    "You can see that the interval we obtained from the sampling distribution contains the population mean a big proportion of the time, even when the sample mean deviates from the population mean.\n",
    "\n",
    "**If our data scientist knew this interval - even if she didn't know the population mean - she could present this interval alongside her sample mean, and tell her colleagues: \"the population mean is probably within this interval around my sample mean\".**"
   ]
  },
  {
   "cell_type": "code",
   "execution_count": null,
   "id": "211ce372",
   "metadata": {},
   "outputs": [],
   "source": [
    "# minus \"a bit\"\n",
    "- width_of_interval/2"
   ]
  },
  {
   "cell_type": "code",
   "execution_count": null,
   "id": "fadd01d1",
   "metadata": {},
   "outputs": [],
   "source": [
    "# plus \"a bit\"\n",
    "+ width_of_interval/2"
   ]
  },
  {
   "cell_type": "markdown",
   "id": "a5a39f5c",
   "metadata": {},
   "source": [
    "The cell below repeats the code from the cell (entitled \"Population, Sample and Confidence Interval\") above 100 times (apart from plotting the graph!), and it shows the proportion of times over all 100 repeats that the interval around the sample mean contained the population mean"
   ]
  },
  {
   "cell_type": "code",
   "execution_count": null,
   "id": "9fd21b35",
   "metadata": {},
   "outputs": [],
   "source": [
    "# set the number of repeats\n",
    "number_of_repeats = 100\n",
    "\n",
    "# an empty array, to record whether the interval contained\n",
    "# the population mean, on each repeat\n",
    "contains_population_mean = np.empty(number_of_repeats)\n",
    "\n",
    "# empty arrays to store in the intervals themselves\n",
    "left_intervals = np.empty(number_of_repeats)\n",
    "right_intervals = np.empty(number_of_repeats)\n",
    "\n",
    "# empty array to store the mean of each sample\n",
    "one_hundred_sample_means = np.empty(number_of_repeats)\n",
    "\n",
    "# on each repeat...\n",
    "for i in np.arange(number_of_repeats):\n",
    "    \n",
    "    # draw a new sample\n",
    "    current_sample = babies_pop[\"birthweight_kg\"].sample(25)\n",
    "    \n",
    "    # store the sample mean\n",
    "    one_hundred_sample_means[i] = current_sample.mean()\n",
    "    \n",
    "    # calculate the confidence interval, from the spread of the sampling \n",
    "    # distribution\n",
    "    left_end_of_interval = current_sample.mean() - width_of_interval /2\n",
    "    right_end_of_interval = current_sample.mean() + width_of_interval /2\n",
    "    \n",
    "    # store the intervals\n",
    "    left_intervals[i] = left_end_of_interval \n",
    "    right_intervals[i] = right_end_of_interval\n",
    "    \n",
    "    # work out if the interval contains the population mean\n",
    "    contains_population_mean[i] = np.logical_and(left_end_of_interval < population_mean, right_end_of_interval > population_mean)\n",
    "\n",
    "    # set the figure size\n",
    "plt.figure(figsize=(10,10))\n",
    "\n",
    "# make a dataframe of confidence intervals, from the 100 repeats\n",
    "intervals = pd.DataFrame({'Left': left_intervals,\n",
    "                         'Right': right_intervals})\n",
    "\n",
    "# plot each sample mean, in the centre of the interval\n",
    "for i in np.arange(len(intervals)):\n",
    "    ends = intervals[['Left', 'Right']].iloc[i]\n",
    "    plt.plot(ends, [i, i], color='gold', zorder=0)\n",
    "    plt.scatter(one_hundred_sample_means[i], i,\n",
    "                color='red', marker = \"|\")\n",
    "\n",
    "# plot the population mean and add graph labels\n",
    "plt.axvline(population_mean,  color='blue', label = 'Population mean')\n",
    "plt.plot([], [], color = 'gold',\n",
    "         label = \"Interval containing 95% \\nof the sample means our \\npurple histogram above\")\n",
    "plt.scatter([], [], color='red', marker = \"|\", label = \"Sample mean\")\n",
    "plt.xlabel('Birthweight (kg)')\n",
    "plt.ylabel('Repeat Number')\n",
    "plt.yticks(np.arange(0, len(intervals)+1, 5))\n",
    "plt.title('Population Mean and Confidence Intervals\\n(All-knowing perspective)')\n",
    "plt.legend(bbox_to_anchor = (1, 1));\n",
    "\n",
    "# display the percentage of repeats where the interval contained the population mean\n",
    "display(Markdown(f\"First, from our 'all-knowing' perspective we drew 1000 random samples from the population, and plotted a histogram of their means.\"))\n",
    "display(Markdown(f\"Then we calculated the interval 'picking out' the middle 95% of that distribution of means.\"))\n",
    "display(Markdown(f\"Then, we drew {number_of_repeats} NEW random samples.\"))\n",
    "display(Markdown(f\"For each new sample, the sample mean has been calculated. And we have 'placed' the interval over each sample mean.\"))\n",
    "display(Markdown(f\"<b>{sum(contains_population_mean)/number_of_repeats * 100}% of these intervals, centred on each new sample mean, contained the population mean.</b>\"))"
   ]
  },
  {
   "cell_type": "markdown",
   "id": "85425239",
   "metadata": {},
   "source": [
    "This is meaning of a confidence interval - over repeated random samples drawn from the population, the interval will contain the population mean around 95% of the time.\n",
    "\n",
    "So, even if our data scientist didn't know the population mean, if she had access to this interval she could present it alongside her sample mean and confidently inform her colleagues that the population mean is likely within this interval, centered around her sample mean.\n",
    "\n",
    "*But* - and this is a huge but - we obtained our confidence interval here only because we are in the godlike, all-knowing position of being able to access the whole population data, and so we were able to build our confidence interval by repeatedly drawing random samples from the population. This told us how much the means of random samples typically vary from each other, and we used that spread to construct our confidence interval.\n",
    "\n",
    "Our data scientist cannot do this - she cannot draw new random samples from the population data she cannot access. And we're not allowed to share the interval with her. So what is she to do?"
   ]
  },
  {
   "cell_type": "markdown",
   "id": "ee47c726",
   "metadata": {},
   "source": [
    "# The Bootstrap\n",
    "\n",
    "Our data scientists is in the situation a person in research is typically in: she doesn't have access to the population data, and she cannot simply draw more random samples from the population. She's limited to the one sample she has. \n",
    "\n",
    "Somehow, to build a confidence interval, she has to get lots of new random samples, to see how much they vary from each other, and use this variability to construct her confidence interval. However, she has to do this without being able to draw any new random samples from the population. This seems like an impossible situation.\n",
    "\n",
    "Fortunately, a brilliant idea called the bootstrap can help her out here. The bootstrap let's us simulate drawing new random samples by a method called *resampling*: the new samples are drawn at random *from the original sample*. This can allow us to build confidence intervals like we've just seen: **but we do not need access to the population data in order to this, we just need our single, random sample**.\n",
    "\n",
    "This may seem like a sleight of hand, but hopefully I can convince you it works!\n",
    "\n",
    "> <b> Question: </b>: before we look at the mechanics of the boostrap, can anyone see any problems that might arise from resampling the sample?\n",
    "\n",
    "We will now see how and why the bootstrap works. Let's first remind ourselves what the data scientists single random sample looks like:"
   ]
  },
  {
   "cell_type": "code",
   "execution_count": null,
   "id": "70c0bc90",
   "metadata": {},
   "outputs": [],
   "source": [
    "# show the data scientist's sample\n",
    "babies_sample"
   ]
  },
  {
   "cell_type": "markdown",
   "id": "e9b4baa3",
   "metadata": {},
   "source": [
    "## The Bootstrap: resampling from the sample"
   ]
  },
  {
   "cell_type": "markdown",
   "id": "447a0310",
   "metadata": {},
   "source": [
    "Here are the steps of *the bootstrap method* for simulating the process of drawing new random\n",
    "samples from the population:\n",
    "\n",
    "- **Treat the original sample as if it were the population.**\n",
    "- **Draw a new sample - the same size as the original sample -**, at random **with** replacement.\n",
    "\n",
    "So let's just break that down: to get our new sample - I'll refer to this as a \"bootstrap resample\" - we select a baby at random from our original sample and record their birthweight. We then put that baby's record back in with the other records in the sample and then draw again at random. We do this until we have a new sample of 25 birthweights.\n",
    "\n",
    "### Why do we resample WITH replacement?\n",
    "\n",
    "If we drew 25 times at random *without* replacement from our sample of size\n",
    "25, we would just get the same sample back. By drawing *with* replacement, we\n",
    "create the possibility for the new samples to be different from the original,\n",
    "because some babies might be drawn more than once and others not at all.\n",
    "\n",
    "\n",
    "### Why does each resample have to be the same size as the original sample?\n",
    "\n",
    "It is important that the bootstrap resample is the same size as the original sample\n",
    "size. Since our original sample consisted of 25 babies, our sample\n",
    "mean was based on 25 babies. To see how different the sample mean could have\n",
    "been, we have to compare it to the mean of other samples of size 25.\n",
    "\n",
    "![](images/bootstrap_pic_1.png)"
   ]
  },
  {
   "cell_type": "markdown",
   "id": "e5901a77",
   "metadata": {},
   "source": [
    "## A resampled mean\n",
    "\n",
    "To get a bootstrap resample, we want a sample the same size as the original sample (25 babies), where we are\n",
    "sampling *with replacement*. \n",
    "\n",
    "Here is one new sample drawn from the original sample, with replacement, and\n",
    "the corresponding sample mean."
   ]
  },
  {
   "cell_type": "code",
   "execution_count": null,
   "id": "fb945c55",
   "metadata": {},
   "outputs": [],
   "source": [
    "# draw a sample of size 25 from our original sample, with replacement.\n",
    "bootstrap_resample = babies_sample['birthweight_kg'].sample(25, replace= True)\n",
    "\n",
    "# show the sample\n",
    "display(Markdown(\"New bootstrap resample:\"))\n",
    "display(pd.DataFrame({'birthweight_kg': bootstrap_resample}))\n",
    "\n",
    "# plot a histogram of the sample\n",
    "plt.hist(bootstrap_resample, color = 'darkred')\n",
    "plt.axvline(bootstrap_resample.mean().round(2),\n",
    "            color = 'red',\n",
    "            label = f\"Bootstrap Resample Mean (= {bootstrap_resample.mean().round(2)})\")\n",
    "plt.xlabel('Birthweight (kg)')\n",
    "plt.title('Bootstrap Resample')\n",
    "plt.legend(bbox_to_anchor = (1,1));"
   ]
  },
  {
   "cell_type": "markdown",
   "id": "f3e187a4",
   "metadata": {},
   "source": [
    "Each time we resample, we generate something like a new sample mean with which estimate of the population\n",
    "mean. By resampling again and again, we will get many such new sample means, allowing us to build\n",
    "a distribution of boostrapped sample means. \n",
    "\n",
    "This tells us how much sample means are likely to vary from each other as we draw repeated new random samples, and this information can be used to build a confidence interval. \n",
    "\n",
    "**But** this time we aren't drawing any new samples from the population data - e.g. we aren't relying on our rare and luxury perspective - in order to generate this distribution of sample means. We are \"bootstrapping\" this distribution from one random sample. So, this technique is available to our data scientist, using just the one sample she has!"
   ]
  },
  {
   "cell_type": "markdown",
   "id": "01ef9c43",
   "metadata": {},
   "source": [
    "## A distribution of means from bootstrap resamples"
   ]
  },
  {
   "cell_type": "markdown",
   "id": "f86a1cd9",
   "metadata": {},
   "source": [
    "Let us define a function `bootstrap_mean` that takes our original sample,\n",
    "and the number of bootstrap samples we want to take, and returns an array of\n",
    "the corresponding bootstrap resample means."
   ]
  },
  {
   "cell_type": "code",
   "execution_count": null,
   "id": "1797e20a",
   "metadata": {},
   "outputs": [],
   "source": [
    "def bootstrap_mean(original_sample, number_of_bootstrap_resamples):\n",
    "    \"\"\"Return array of bootstrapped sample means\n",
    "\n",
    "    Parameters\n",
    "    ----------\n",
    "    original_sample: Series containing the original sample\n",
    "    number_of_bootstrap_resamples: number of bootstrap resamples\n",
    "    to perform\n",
    "\n",
    "    Returns\n",
    "    -------\n",
    "    resampled_means : Array of bootstrapped sample means.\n",
    "    \"\"\"\n",
    "    # calculate the length of the original sample\n",
    "    n = len(original_sample)\n",
    "    \n",
    "    # create an empty array to store the estimate of the means\n",
    "    # over repeated resamples\n",
    "    resampled_means = np.zeros(number_of_bootstrap_resamples)\n",
    "\n",
    "    # repeat the resampling procedure, and store the estimate of\n",
    "    # the mean each time\n",
    "    for i in np.arange(number_of_bootstrap_resamples):\n",
    "        bootstrap_sample = original_sample.sample(n, replace=True)\n",
    "        resampled_means[i] = np.mean(bootstrap_sample)\n",
    "        \n",
    "    # return the array of estimate means\n",
    "    return resampled_means"
   ]
  },
  {
   "cell_type": "markdown",
   "id": "2c0213f0",
   "metadata": {},
   "source": [
    "We now repeat the bootstrap process 1000 times. The array `bstrap_means`\n",
    "contains the means of all 1000 bootstrap samples. Notice that the code\n",
    "takes longer to run than our previous code. It has a lot of resampling to do!"
   ]
  },
  {
   "cell_type": "code",
   "execution_count": null,
   "id": "60622a8d",
   "metadata": {
    "scrolled": false
   },
   "outputs": [],
   "source": [
    "# set the number of bootstrap resamples we want to generate\n",
    "number_of_bootstrap_resamples = 1000\n",
    "\n",
    "# run our function, to generate an array containing the bootstrapped means\n",
    "bootstrap_sample_means = bootstrap_mean(babies_sample['birthweight_kg'], number_of_bootstrap_resamples)\n",
    "\n",
    "# show the array\n",
    "bootstrap_sample_means"
   ]
  },
  {
   "cell_type": "markdown",
   "id": "ded81a95",
   "metadata": {},
   "source": [
    "After running this function, we now have the we have the means from 1000 simulated samples.\n",
    "\n",
    "**But we've gotten them all from our original random sample of 25 babies - we haven't touched the population data.**"
   ]
  },
  {
   "cell_type": "code",
   "execution_count": null,
   "id": "a250fea0",
   "metadata": {},
   "outputs": [],
   "source": [
    "# show that we have the means from 1000 simulated samples\n",
    "len(bootstrap_sample_means)"
   ]
  },
  {
   "cell_type": "markdown",
   "id": "40b4ef5f",
   "metadata": {},
   "source": [
    "Here is the histogram of the 1000 means from the bootstrap resamples; this gives us an estimate of how much sample means (from samples of size 25) tend to vary from each other:"
   ]
  },
  {
   "cell_type": "code",
   "execution_count": null,
   "id": "3c0ff692",
   "metadata": {
    "scrolled": false
   },
   "outputs": [],
   "source": [
    "# a new dataframe for the means, obtained via resampling\n",
    "resampled_means = pd.DataFrame()\n",
    "resampled_means['Bootstrap Sample means'] = bootstrap_sample_means\n",
    "\n",
    "# plot the distribution of bootstrapped means\n",
    "resampled_means.plot.hist(color = 'purple')\n",
    "\n",
    "# add title and labels to the plot\n",
    "plt.title(f'Bootstrap distribution of sample means \\n({number_of_bootstrap_resamples}) resamples')\n",
    "plt.legend(bbox_to_anchor = (1, 1));"
   ]
  },
  {
   "cell_type": "markdown",
   "id": "1633fc17",
   "metadata": {},
   "source": [
    "## Building a bootstrap confidence interval"
   ]
  },
  {
   "cell_type": "markdown",
   "id": "f74db407",
   "metadata": {},
   "source": [
    "Just to recap: earlier we used our \"all-knowing\" perspective to draw 1000 random samples directly from the population data. We then used the distribution of the means of those samples to build a confidence interval (using the width of the interval covering the middle 95% of the sample means).\n",
    "\n",
    "*Well, now we've done something very similar through the bootstrap resampling - only we've done it from a single random sample, without accessing the population data.*\n",
    "\n",
    "We can construct an interval the same way as before:"
   ]
  },
  {
   "cell_type": "code",
   "execution_count": null,
   "id": "090d029c",
   "metadata": {},
   "outputs": [],
   "source": [
    "left_boostrap_interval, right_boostrap_interval = np.percentile(bootstrap_sample_means, [2.5, 97.5])\n",
    "print('Left:', left_boostrap_interval)\n",
    "print('Right:', right_boostrap_interval)"
   ]
  },
  {
   "cell_type": "markdown",
   "id": "c11e0054",
   "metadata": {},
   "source": [
    "We show the interval on the histogram of boostrap resample means:"
   ]
  },
  {
   "cell_type": "code",
   "execution_count": null,
   "id": "888953e4",
   "metadata": {},
   "outputs": [],
   "source": [
    "# show the boostrap resample distribution, and its middle 95%\n",
    "resampled_means.plot.hist(color = 'purple')\n",
    "plt.plot([left_boostrap_interval, right_boostrap_interval], [5, 5],\n",
    "         color='yellow', lw=8, zorder=1,\n",
    "         label = \"Interval containing 95% of the\\nbootstrapped sample means\")\n",
    "plt.title(f'Bootstrap distribution of sample means \\n({number_of_bootstrap_resamples}) resamples')\n",
    "plt.legend(bbox_to_anchor = (1, 1));"
   ]
  },
  {
   "cell_type": "markdown",
   "id": "5ec4eaf8",
   "metadata": {},
   "source": [
    "Our data scientist can present this interval - obtained from boostrap resampling her single random sample - alongside her sample mean:"
   ]
  },
  {
   "cell_type": "code",
   "execution_count": null,
   "id": "4d51ddc1",
   "metadata": {},
   "outputs": [],
   "source": [
    "# mean of the original sample\n",
    "sample_mean"
   ]
  },
  {
   "cell_type": "code",
   "execution_count": null,
   "id": "c93e3e8f",
   "metadata": {},
   "outputs": [],
   "source": [
    "# get the width of the boostrap confidence interval\n",
    "width_from_boostrap = right_boostrap_interval - left_boostrap_interval\n",
    "width_from_boostrap"
   ]
  },
  {
   "cell_type": "code",
   "execution_count": null,
   "id": "6a478390",
   "metadata": {},
   "outputs": [],
   "source": [
    "# minus \"a bit\" (from boostrap)\n",
    "- width_from_boostrap/2"
   ]
  },
  {
   "cell_type": "code",
   "execution_count": null,
   "id": "414618b4",
   "metadata": {},
   "outputs": [],
   "source": [
    "# plus \"a bit\" (from boostrap)\n",
    "+ width_from_boostrap/2"
   ]
  },
  {
   "cell_type": "code",
   "execution_count": null,
   "id": "c3a67b1c",
   "metadata": {},
   "outputs": [],
   "source": [
    "# show the sample mean, boostrap confidence interval, and the population data\n",
    "# plot a histogram, show the pop and pop mean\n",
    "plt.hist(babies_pop[\"birthweight_kg\"], color = 'darkblue', \n",
    "         label = 'Population')\n",
    "\n",
    "# show the population mean\n",
    "plt.axvline(babies_pop[\"birthweight_kg\"].mean(), \n",
    "            label = f'Mean of Population = \\n{population_mean}', \n",
    "            color = \"blue\")\n",
    "\n",
    "# plot the confidence interval\n",
    "plt.plot([sample_mean - width_from_boostrap/2, sample_mean  + width_from_boostrap/2], [5, 5],\n",
    "         color='yellow', lw=8, zorder=1,\n",
    "         label = \"Interval containing 95% of the\\nboostrap resample means\")\n",
    "\n",
    "# plot the population mean\n",
    "plt.axvline(babies_pop[\"birthweight_kg\"].mean(), \n",
    "            label = f'Mean of Population = \\n{population_mean}', \n",
    "            color = \"blue\")\n",
    "\n",
    "# plot the sample mean\n",
    "plt.axvline(sample_mean, color = \"red\",\n",
    "            label = f'Mean of Original Sample = {sample_mean.round(2)}')\n",
    "# add axis labels and legend\n",
    "plt.xlabel('Birthweight (kg)')\n",
    "plt.legend(bbox_to_anchor = (1,1))\n",
    "plt.title('Population Data');"
   ]
  },
  {
   "cell_type": "markdown",
   "id": "75332bb1",
   "metadata": {},
   "source": [
    "Just as with the confidence intervals we generated earlier from our all-knowing perspective, 95% of the time, intervals generated via bootstrapping a random sample will contain the population mean.\n",
    "\n",
    "<b> But why should you believe this? </b>\n",
    "\n",
    "Let's return to our all-knowing perspective once more. Only now, let's enhance our powers. We can not only \"see\" the full population data, we can also rewind time. We repeat the following process:\n",
    "\n",
    "* 1. We \"travel\" to the point in time where the data scientist is given her random sample of 25 baby records by the hospital.\n",
    "* 2. She calculates its mean, and uses bootstrap resampling to generate a confidence interval.\n",
    "* 3. From our all-knowing perspective, we're going to record if her boostrap confidence interval contains the population mean.\n",
    "* 4. We use our powers to \"rewind the tape of reality\", back to step 1 above.\n",
    "\n",
    "By \"rewinding the tape of reality\" like this, we can see how often boostrap confidence intervals capture the population mean, for new random samples. You can think of this as being about \"possible worlds\" - as our data scientist gets different random samples, over these possible worlds, what proportion of the time do boostrap confidence intervals actually capture the population mean?\n",
    "\n",
    "**This is simulating our data scientist's scenario 100 times over - with 100 new random samples. We can then see how effective bootstrap confidence intervals would be for capturing the population mean, in each case, for each new sample.**\n",
    "\n",
    "We'll show this process using some python code:"
   ]
  },
  {
   "cell_type": "code",
   "execution_count": null,
   "id": "b00601c1",
   "metadata": {
    "scrolled": false
   },
   "outputs": [],
   "source": [
    "# THE BIG SIMULATION: this one can take a minute or two\n",
    "\n",
    "# set up to make 20 left and right intervals, and sample means\n",
    "n_intervals = 100\n",
    "big_sim_left_ends = np.empty(n_intervals)\n",
    "big_sim_right_ends = np.empty(n_intervals)\n",
    "big_sim_random_sample_means = np.empty(n_intervals)\n",
    "\n",
    "# repeat the following process, n_intervals number of times...\n",
    "for i in np.arange(n_intervals):\n",
    "    \n",
    "    # tell the user how far through the simulation we are\n",
    "    if i in np.arange(0, 101, 10):\n",
    "        display(Markdown(f\"{i}/{n_intervals} completed.\"))\n",
    "    \n",
    "    # simulate the hospital records department taking a new random sample.\n",
    "    this_sample = babies_pop['birthweight_kg'].sample(25)\n",
    "    \n",
    "    # get the distribution of bootstrap resample means, from the single new sample\n",
    "    big_sim_boostrap_sample_means = bootstrap_mean(this_sample, number_of_bootstrap_resamples)\n",
    "    \n",
    "    # calculate the left, right ends of the interval, for the current repeat\n",
    "    current_left_end, current_right_end = np.percentile(big_sim_boostrap_sample_means, [2.5, 97.5])\n",
    "    \n",
    "    # store the results for this trial\n",
    "    big_sim_left_ends[i] = current_left_end\n",
    "    big_sim_right_ends[i] = current_right_end\n",
    "    big_sim_random_sample_means[i] = this_sample.mean()\n",
    "\n",
    "# show when done\n",
    "display(Markdown(f\"Completed!\"))\n",
    "\n",
    "# put interval ends into own data frame.\n",
    "big_sim_intervals_and_means = pd.DataFrame()\n",
    "big_sim_intervals_and_means['Sample Mean'] = big_sim_random_sample_means\n",
    "big_sim_intervals_and_means['Left'] = big_sim_left_ends\n",
    "big_sim_intervals_and_means['Right'] = big_sim_right_ends"
   ]
  },
  {
   "cell_type": "markdown",
   "id": "c0f7dcb6",
   "metadata": {},
   "source": [
    "For each of the 100 repeats, we get one new random sample, and new sample mean, and a new boostrapped confidence interval (bootstrap resampled from the new random sample).\n",
    "\n",
    "A column is also shown indicate whether the bootstrap interval contains the population mean, in each possible world:"
   ]
  },
  {
   "cell_type": "markdown",
   "id": "c1027686",
   "metadata": {},
   "source": [
    "What percentage of the intervals contain the population mean?"
   ]
  },
  {
   "cell_type": "code",
   "execution_count": null,
   "id": "3a734dcd",
   "metadata": {
    "tags": [
     "hide-cell"
    ]
   },
   "outputs": [],
   "source": [
    "# add a column to the intervals dataframe, showing if the interval captures the population mean\n",
    "big_sim_intervals_and_means[\"Contains Population Mean\"] = np.logical_and(big_sim_intervals_and_means['Left'] < population_mean,\n",
    "                                                                         big_sim_intervals_and_means['Right'] > population_mean)\n",
    "# show the percentage of boostrapped intervals which contain the mean\n",
    "display(Markdown(f\"{big_sim_intervals_and_means['Contains Population Mean'].sum()/len(big_sim_intervals_and_means) * 100}% of the intervals contained the population mean.\"))\n",
    "\n",
    "# set the figure size\n",
    "plt.figure(figsize=(10,10))\n",
    "\n",
    "# plot the boostrap confidence intervals\n",
    "for i in np.arange(len(intervals)):\n",
    "    ends = big_sim_intervals_and_means[['Left', 'Right']].iloc[i]\n",
    "    plt.scatter(big_sim_intervals_and_means[\"Sample Mean\"][i], i,\n",
    "                color='red', marker = \"|\")\n",
    "    plt.plot(ends, [i, i], color='gold', zorder=0)\n",
    "    \n",
    "# show the population mean and add labels\n",
    "plt.axvline(population_mean,  color='blue', label = 'Population mean')\n",
    "plt.plot([], [], color = 'gold',\n",
    "         label = \"Intervals containing 95% of the\\nbootstrap resample means for a given repeat\")\n",
    "plt.scatter([], [], color='red', marker = \"|\", label = \"Sample mean\")\n",
    "plt.ylabel('Repeat Number')\n",
    "plt.yticks(np.arange(0, n_intervals+1, 5))\n",
    "plt.xlabel('Birthweight (kg)')\n",
    "plt.title('Population mean and Boostrapped Intervals')\n",
    "plt.legend(bbox_to_anchor = (1, 1));"
   ]
  },
  {
   "cell_type": "markdown",
   "id": "b0ee3959",
   "metadata": {},
   "source": [
    "### Why does boostrapping work?\n",
    "\n",
    "Why is this a good idea? On average, **random samples tend to resemble the population...so random bootstrap resamples of the sample tend to resemble the population as well**. This entails that when we generate bootstrap resamples, they provide pretty good estimates of how much the means of random samples tend to vary from each other (and this is in the information we need to build our confidence interval!).\n",
    "\n",
    "![](images/bootstrap_pic_2.png)"
   ]
  },
  {
   "cell_type": "markdown",
   "id": "09b8c54a",
   "metadata": {},
   "source": [
    "## Summary\n",
    "\n",
    "If we are in a godlike, all-knowing perspective, of having access to population data, we can construct confidence intervals by drawing many random samples from the population data. We can then plot the distribution of means from these samples, and then use the \"width\" of this distribution to construct confidence intervals...\n",
    "\n",
    "BUT if we're in a real world situation - with no access to the full population data - we can use the boostrap:\n",
    "\n",
    "- treat the random sample as if it is the population\n",
    "- draw many new \"bootstrap resamples\" from the original sample, by sampling WITH replacement\n",
    "- plot the distribution of means from these boostrap resamples\n",
    "- use the \"spread\" of the distribution of boostrap means to construct our confidence interval\n",
    "\n",
    "We have seen that boostrap confidence intervals will capture the population mean around 95% of the time, over many new random samples..."
   ]
  },
  {
   "cell_type": "markdown",
   "id": "176b21e0",
   "metadata": {},
   "source": [
    "# If there is time: \n",
    "\n",
    "\n",
    "## \"Why are the sampling distributions normal?' - the Central Limit Theorem"
   ]
  },
  {
   "cell_type": "code",
   "execution_count": null,
   "id": "e02945b1",
   "metadata": {},
   "outputs": [],
   "source": [
    "# print an explanation of the graph\n",
    "display(Markdown(\"\"\"Inspired by Agresti, Statistical Methods for \n",
    "                 the Social Sciences, 2018, 5th Ed., pg.100\"\"\"))\n",
    "display(Markdown(\"\"\"\n",
    "An illustration of the central limit theorem. \n",
    "The code repeatedly draws samples (of three different sizes) from a set of\n",
    "underlying population distributions (some of which are very non-normal).\n",
    "A plot is then created showing that the sampling distribution of the mean gets\n",
    "more precise and more normal as the sample size increases,\n",
    "regardless of the (non)normality of the underlying population.\"\"\"))\n",
    "\n",
    "# show the graph\n",
    "plot_CTL_illustration()"
   ]
  },
  {
   "cell_type": "markdown",
   "id": "b82d7978",
   "metadata": {},
   "source": [
    "## What if we bootstrap from an unrepresentative sample?\n",
    "\n",
    "A good way to think of boostrapping is this: over multiple labs and research projects trying to estimate the same population parameter (mean, median, odds ratio etc.), bootstrap confidence intervals will contain the population mean 95% of the time (as a proportion of the total research projects).\n",
    "\n",
    "Because sampling is random, a given sample in a given research project may be unrepresentative. Bootstrapping cannot fix this is issue. **This is why replication and open science are so important!**.\n",
    "\n",
    "However, for any sample we have, confidence intervals provide the best guide available to where the population parameter is.\n",
    "\n",
    "More from Stack Exchange: https://stats.stackexchange.com/questions/157639/bootstrapping-wont-always-return-population-statistics-so-why-say-it-does"
   ]
  },
  {
   "cell_type": "markdown",
   "id": "d5f8c2ce",
   "metadata": {},
   "source": [
    "*Note*: This page has content from the [Bootstrap](https://github.com/data-8/textbook/blob/64b20f0/notebooks/Bootstrap.ipynb)\n",
    "notebook of an older version of the [UC Berkeley data science course](https://inferentialthinking.com/). See the Berkeley course section of the [license file](https://uob-ds.github.io/cfd2021/license)."
   ]
  }
 ],
 "metadata": {
  "jupytext": {
   "formats": "ipynb,Rmd",
   "notebook_metadata_filter": "all,-language_info",
   "split_at_heading": true
  },
  "kernelspec": {
   "display_name": "Python 3 (ipykernel)",
   "language": "python",
   "name": "python3"
  },
  "language_info": {
   "codemirror_mode": {
    "name": "ipython",
    "version": 3
   },
   "file_extension": ".py",
   "mimetype": "text/x-python",
   "name": "python",
   "nbconvert_exporter": "python",
   "pygments_lexer": "ipython3",
   "version": "3.11.3"
  }
 },
 "nbformat": 4,
 "nbformat_minor": 5
}
